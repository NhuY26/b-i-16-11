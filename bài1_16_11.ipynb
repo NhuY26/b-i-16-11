{
  "nbformat": 4,
  "nbformat_minor": 0,
  "metadata": {
    "colab": {
      "name": "bài1-16-11.ipynb",
      "provenance": [],
      "authorship_tag": "ABX9TyMd8ZrN7hYPT70DpSGgl/Ef",
      "include_colab_link": true
    },
    "kernelspec": {
      "name": "python3",
      "display_name": "Python 3"
    },
    "language_info": {
      "name": "python"
    }
  },
  "cells": [
    {
      "cell_type": "markdown",
      "metadata": {
        "id": "view-in-github",
        "colab_type": "text"
      },
      "source": [
        "<a href=\"https://colab.research.google.com/github/NhuY26/b-i-16-11/blob/main/b%C3%A0i1_16_11.ipynb\" target=\"_parent\"><img src=\"https://colab.research.google.com/assets/colab-badge.svg\" alt=\"Open In Colab\"/></a>"
      ]
    },
    {
      "cell_type": "code",
      "metadata": {
        "colab": {
          "base_uri": "https://localhost:8080/"
        },
        "id": "_clYGIYMag19",
        "outputId": "3fb03beb-1c40-4ca3-8af6-64d57895afa4"
      },
      "source": [
        "#Tạo một biến x kiểu List rỗng\n",
        "x = []\n",
        "# Thêm giá trị 18 vào x\n",
        "x.append(18)\n",
        "#Thêm giá trị \"Huế\" vào x\n",
        "x.append('huế')\n",
        "#Tạo 1 List y = [12, 45, -1, -0.56, \"abc\"]\n",
        "y = [12, 45, -1, -0.56, \"abc\"]\n",
        "# Thêm y vào x\n",
        "x.extend(y)\n",
        "#Xuất giá trị của x ra màn hình\n",
        "print(x)\n",
        "# In ra màn hình giá trị của phần tử cuối cùng và phần tử đầu tiên của x\n",
        "print(x[0],'\\t',x[-1])\n",
        "#In ra màn hình giá trị của phần tử đầu tiên đến phần tử thứ 5 của x\n",
        "print(x[0:5])\n",
        "#In ra màn hình giá trị của phần từ thứ 3 đến cuối cùng của x\n",
        "print(x[3:])\n"
      ],
      "execution_count": 28,
      "outputs": [
        {
          "output_type": "stream",
          "name": "stdout",
          "text": [
            "[18, 'huế', 12, 45, -1, -0.56, 'abc']\n",
            "18 \t abc\n",
            "[18, 'huế', 12, 45, -1]\n",
            "[45, -1, -0.56, 'abc']\n"
          ]
        }
      ]
    }
  ]
}