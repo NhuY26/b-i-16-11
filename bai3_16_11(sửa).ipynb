{
  "nbformat": 4,
  "nbformat_minor": 0,
  "metadata": {
    "colab": {
      "name": "bai3-16-11.ipynb",
      "provenance": [],
      "authorship_tag": "ABX9TyNfRgVHq7LuY4qhp/PXQJ98",
      "include_colab_link": true
    },
    "kernelspec": {
      "name": "python3",
      "display_name": "Python 3"
    },
    "language_info": {
      "name": "python"
    }
  },
  "cells": [
    {
      "cell_type": "markdown",
      "metadata": {
        "id": "view-in-github",
        "colab_type": "text"
      },
      "source": [
        "<a href=\"https://colab.research.google.com/github/NhuY26/b-i-16-11/blob/main/bai3_16_11(s%E1%BB%ADa).ipynb\" target=\"_parent\"><img src=\"https://colab.research.google.com/assets/colab-badge.svg\" alt=\"Open In Colab\"/></a>"
      ]
    },
    {
      "cell_type": "code",
      "metadata": {
        "colab": {
          "base_uri": "https://localhost:8080/"
        },
        "id": "NeoyjKbRrvKA",
        "outputId": "adc284d7-63ba-4bbe-d1c4-9d4ebbecffb8"
      },
      "source": [
        "#2\n",
        "num = float(input(\"số thứ nhất: \"))\n",
        "num1 = float(input(\"số thứ hai: \"))\n",
        "num2 = float(input(\"số thứ ba: \"))\n",
        "\n",
        "if (num >= num1) and (num >= num2):\n",
        "   max = num\n",
        "elif (num1 >= num) and (num1 >= num2):\n",
        "   max = num1\n",
        "else:\n",
        "   max = num2\n",
        "\n",
        "print(max, \"số lớn nhất là.\")\n"
      ],
      "execution_count": null,
      "outputs": [
        {
          "output_type": "stream",
          "name": "stdout",
          "text": [
            "số thứ nhất: 25\n",
            "số thứ hai: 78\n",
            "số thứ ba: 87\n",
            "87.0 số lớn nhất là.\n"
          ]
        }
      ]
    },
    {
      "cell_type": "code",
      "metadata": {
        "colab": {
          "base_uri": "https://localhost:8080/"
        },
        "id": "f205ganM0Z6m",
        "outputId": "271294be-d01e-4b24-9191-f4bbe121a22a"
      },
      "source": [
        "#4\n",
        "day = int(input(\"Nhập ngày cần in ra (1-7) : \"))\n",
        "day %= 7\n",
        "if (day == 1) :\n",
        "  print(\"Chủ nhật\")\n",
        "elif (day == 2) :\n",
        "  print(\"Thứ hai\");\n",
        "elif (day == 3) :\n",
        "  print(\"Thứ ba\")\n",
        "elif (day == 4) :\n",
        "  print(\"Thứ tư\")\n",
        "elif (day == 5) :\n",
        "  print(\"Thứ năm\")\n",
        "elif (day == 6) :\n",
        "  print(\"Thứ sáu\")\n",
        "elif (day == 7) :\n",
        "  print(\"Thứ bảy\")"
      ],
      "execution_count": null,
      "outputs": [
        {
          "name": "stdout",
          "output_type": "stream",
          "text": [
            "Nhập ngày cần in ra (1-7) : 7\n"
          ]
        }
      ]
    },
    {
      "cell_type": "code",
      "metadata": {
        "colab": {
          "base_uri": "https://localhost:8080/"
        },
        "id": "Mohfe0wh6KyL",
        "outputId": "395d3db2-a658-473a-a32e-8b84b10924d4"
      },
      "source": [
        "#3\n",
        "import math\n",
        "x = float(input('nhập x: '))\n",
        "num = 0.0\n",
        "if x != num:\n",
        "    if x < num:\n",
        "        if abs(x) < 1:\n",
        "            print('nho am')\n",
        "        else:\n",
        "            print('am')\n",
        "    if x > num:\n",
        "        if math.sqrt(x) > 1000:\n",
        "            print('duong lon')\n",
        "        else:\n",
        "            print('duong')"
      ],
      "execution_count": null,
      "outputs": [
        {
          "output_type": "stream",
          "name": "stdout",
          "text": [
            "nhập x: 2\n",
            "duong\n"
          ]
        }
      ]
    },
    {
      "cell_type": "code",
      "metadata": {
        "colab": {
          "base_uri": "https://localhost:8080/"
        },
        "id": "FtMOnu5QyyTf",
        "outputId": "fe0b95cc-8ce7-4584-a589-a20ab526abb8"
      },
      "source": [
        "#5\n",
        "import math\n",
        "num1 = float(input(\"Nhập số thứ nhất: \"))\n",
        "num2 = float(input(\"Nhập số thứ hai: \"))\n",
        "\n",
        "num1 = math.floor(num1*1000)\n",
        "\n",
        "num2 = math.floor(num2*1000)\n",
        "\n",
        "if (num1 == num2):\n",
        "    print(\"chúng giống nhau đến ba chữ số thập phân!\")\n",
        "else:\n",
        "    print(\"Chúng khác nhau!\")"
      ],
      "execution_count": null,
      "outputs": [
        {
          "output_type": "stream",
          "name": "stdout",
          "text": [
            "Nhập số thứ nhất: 17.12345\n",
            "Nhập số thứ hai: 17.12356\n",
            "chúng giống nhau đến ba chữ số thập phân!\n"
          ]
        }
      ]
    },
    {
      "cell_type": "code",
      "metadata": {
        "colab": {
          "base_uri": "https://localhost:8080/"
        },
        "id": "U16clobytk8O",
        "outputId": "82ba2939-5958-4318-eefc-ea110fb5c7ce"
      },
      "source": [
        "#1\n",
        "n = float(input('nhập số: '))\n",
        "if(n>=0):\n",
        "  print('số dương')\n",
        "else:\n",
        "  print('số âm')\n"
      ],
      "execution_count": 3,
      "outputs": [
        {
          "output_type": "stream",
          "name": "stdout",
          "text": [
            "nhập số: -3\n",
            "số âm\n"
          ]
        }
      ]
    }
  ]
}